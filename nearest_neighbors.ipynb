{
 "cells": [
  {
   "cell_type": "code",
   "execution_count": 1,
   "metadata": {
    "ExecuteTime": {
     "end_time": "2018-06-24T03:29:28.530267Z",
     "start_time": "2018-06-24T03:29:21.889902Z"
    }
   },
   "outputs": [],
   "source": [
    "import pandas as pd\n",
    "import numpy as np\n",
    "import matplotlib.pyplot as plt\n",
    "import re\n",
    "import pickle\n",
    "from selenium import webdriver\n",
    "from bs4 import BeautifulSoup as Soup\n",
    "from urllib.request import urlopen as u_req\n",
    "from urllib import error\n",
    "import urllib\n",
    "import requests\n",
    "from IPython.core.debugger import set_trace\n",
    "from permile import get_soup\n",
    "from sklearn.neighbors import KNeighborsClassifier\n",
    "from sklearn import preprocessing\n",
    "import matplotlib.style\n",
    "import matplotlib as mpl\n",
    "from sklearn import preprocessing\n",
    "from milemod import *\n",
    "%matplotlib inline"
   ]
  },
  {
   "cell_type": "code",
   "execution_count": 2,
   "metadata": {
    "ExecuteTime": {
     "end_time": "2018-06-24T03:29:28.542646Z",
     "start_time": "2018-06-24T03:29:28.532449Z"
    }
   },
   "outputs": [],
   "source": [
    "with open('/Users/ahakso/Documents/gitDir/permileFlask/mysite/static/combined_frame.pkl','rb') as f:\n",
    "    df = pickle.load(f)"
   ]
  },
  {
   "cell_type": "code",
   "execution_count": 5,
   "metadata": {
    "ExecuteTime": {
     "end_time": "2018-06-24T03:29:46.037031Z",
     "start_time": "2018-06-24T03:29:45.986686Z"
    }
   },
   "outputs": [],
   "source": [
    "tgt_make = 'Volkswagen'\n",
    "tgt_model = 'Tiguan'\n",
    "tgt_year = 2013\n",
    "neighbs, neighbs_all = nearest_neighbors(df, tgt_make, tgt_model, tgt_year, n_neighbors=20)"
   ]
  },
  {
   "cell_type": "code",
   "execution_count": 88,
   "metadata": {
    "ExecuteTime": {
     "end_time": "2018-06-24T04:00:35.388212Z",
     "start_time": "2018-06-24T04:00:35.114383Z"
    }
   },
   "outputs": [
    {
     "name": "stdout",
     "output_type": "stream",
     "text": [
      "(0.0, 5.25)\n"
     ]
    },
    {
     "data": {
      "text/plain": [
       "(0, 7.0)"
      ]
     },
     "execution_count": 88,
     "metadata": {},
     "output_type": "execute_result"
    },
    {
     "data": {
      "text/plain": [
       "(0.1, 0.5)"
      ]
     },
     "execution_count": 88,
     "metadata": {},
     "output_type": "execute_result"
    },
    {
     "data": {
      "image/png": "[encoded data removed]",
      "text/plain": [
       "<Figure size 576x396 with 1 Axes>"
      ]
     },
     "metadata": {},
     "output_type": "display_data"
    }
   ],
   "source": [
    "def context_hist(neighbs, neighbs_all, tgt_make, tgt_model, tgt_year):\n",
    "    # Make histogram\n",
    "    mpl.style.use('seaborn')\n",
    "    costs = neighbs.total.values\n",
    "    fig = plt.figure()\n",
    "    fig.patch.set_alpha(0.5)\n",
    "    ax = fig.add_subplot(111)\n",
    "    ax.patch.set_alpha(0.5)\n",
    "\n",
    "#     set_trace()\n",
    "    count,bins,_ = ax.hist(costs,edgecolor='black')\n",
    "    yl = ax.get_ylim()\n",
    "    print(yl)\n",
    "    ax.set_xlabel('$/mile',fontsize=20)\n",
    "    ax.set_ylabel('# Vehicles',fontsize=20)\n",
    "    plt.tick_params(labelsize=18)\n",
    "\n",
    "    # Label bars\n",
    "    idx = (neighbs_all.make==tgt_make) & (neighbs_all.model==tgt_model) & (neighbs_all.year==tgt_year)\n",
    "    cost_tgt = neighbs_all.loc[idx,'total'].values[0]\n",
    "    idx_min = np.argmin(neighbs.total.values)\n",
    "    idx_max = np.argmax(neighbs.total.values)\n",
    "    (cost_tgt >= bins) & (cost_tgt <=bins)\n",
    "    sample_costs = (cost_tgt,costs[idx_min],costs[idx_max])\n",
    "    mdlstrs = ('Your {}'.format(tgt_model),\\\n",
    "               '{} {}\\n{}'.format(neighbs.year.iloc[idx_min],neighbs.make.iloc[idx_min],neighbs.model.iloc[idx_min]),\\\n",
    "               '{} {}\\n{}'.format(neighbs.year.iloc[idx_max],neighbs.make.iloc[idx_max],neighbs.model.iloc[idx_max]))\n",
    "    for (cost, mdlstr) in zip(sample_costs, mdlstrs):\n",
    "        bar_idx = int(np.nonzero((cost >= bins[:-1]) & (cost <= bins[1:]))[0][0])\n",
    "        xx = np.mean([bins[bar_idx],bins[bar_idx+1]])\n",
    "    #     xx = bins[bar_idx]\n",
    "        yy = count[bar_idx]+yl[1]/10\n",
    "        plt.text(xx,yy,mdlstr,fontsize=18,ha='center')\n",
    "    return ax, yl\n",
    "ax,yl = context_hist(neighbs, neighbs_all, tgt_make, tgt_model, tgt_year)\n",
    "y_upper = np.round(1.25*yl[1])\n",
    "ax.set_ylim(0,y_upper)\n",
    "ax.set_xlim(0.1,0.5)\n",
    "# ax.set_ybound(None,np.round(1.25*yl[1]))"
   ]
  },
  {
   "cell_type": "code",
   "execution_count": 8,
   "metadata": {
    "ExecuteTime": {
     "end_time": "2018-06-22T19:35:29.851036Z",
     "start_time": "2018-06-22T19:35:29.572655Z"
    }
   },
   "outputs": [],
   "source": [
    "df_g = df.groupby(['make','model','year']).count()\n",
    "\n",
    "all_makes = df_g.index.remove_unused_levels().levels[0].values\n",
    "\n",
    "d = {}\n",
    "for make in all_makes:\n",
    "    subset_mdls = df_g.loc[make].index.remove_unused_levels().levels[0].values\n",
    "    d[make] = dict(zip(subset_mdls,np.tile(np.array([]),(len(subset_mdls),1))))\n",
    "    for mdl in subset_mdls:\n",
    "        d[make][mdl] = df_g.loc[(make,mdl),].index.values"
   ]
  },
  {
   "cell_type": "code",
   "execution_count": 11,
   "metadata": {
    "ExecuteTime": {
     "end_time": "2018-06-22T19:36:27.274537Z",
     "start_time": "2018-06-22T19:36:27.269051Z"
    }
   },
   "outputs": [],
   "source": [
    "with open('/Users/ahakso/Documents/gitDir/permileFlask/mysite/static/combined_frame_dict.pkl','wb') as f:\n",
    "    pickle.dump(d,f)"
   ]
  },
  {
   "cell_type": "code",
   "execution_count": 14,
   "metadata": {
    "ExecuteTime": {
     "end_time": "2018-06-22T19:40:55.777596Z",
     "start_time": "2018-06-22T19:40:55.772048Z"
    }
   },
   "outputs": [
    {
     "data": {
      "text/plain": [
       "dict"
      ]
     },
     "execution_count": 14,
     "metadata": {},
     "output_type": "execute_result"
    }
   ],
   "source": [
    "type(d)"
   ]
  }
 ],
 "metadata": {
  "kernelspec": {
   "display_name": "Python [conda env:insight]",
   "language": "python",
   "name": "conda-env-insight-py"
  },
  "language_info": {
   "codemirror_mode": {
    "name": "ipython",
    "version": 3
   },
   "file_extension": ".py",
   "mimetype": "text/x-python",
   "name": "python",
   "nbconvert_exporter": "python",
   "pygments_lexer": "ipython3",
   "version": "3.6.5"
  }
 },
 "nbformat": 4,
 "nbformat_minor": 2
}
