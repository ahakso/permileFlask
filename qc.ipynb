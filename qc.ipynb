{
 "cells": [
  {
   "cell_type": "code",
   "execution_count": 201,
   "metadata": {
    "ExecuteTime": {
     "end_time": "2018-06-26T00:46:22.134964Z",
     "start_time": "2018-06-26T00:46:22.125207Z"
    }
   },
   "outputs": [],
   "source": [
    "import pandas as pd\n",
    "import numpy as np\n",
    "import matplotlib.pyplot as plt\n",
    "import re\n",
    "import pickle\n",
    "from selenium import webdriver\n",
    "from bs4 import BeautifulSoup as Soup\n",
    "from urllib.request import urlopen as u_req\n",
    "from urllib import error\n",
    "import urllib\n",
    "import requests\n",
    "from IPython.core.debugger import set_trace\n",
    "from permile import get_soup\n",
    "from sklearn.neighbors import KNeighborsClassifier\n",
    "from sklearn import preprocessing\n",
    "import matplotlib.style\n",
    "import matplotlib as mpl\n",
    "%matplotlib inline\n",
    "from milemod import CustomDataFrame, CustomSeries, nearest_neighbors\n",
    "import scipy as sp\n",
    "from sklearn.linear_model import LinearRegression\n",
    "from sklearn.neighbors import LocalOutlierFactor\n",
    "from sklearn.covariance import EllipticEnvelope\n",
    "import statsmodels.api as sm\n",
    "from statsmodels.sandbox.regression.predstd import wls_prediction_std\n",
    "import line_profiler"
   ]
  },
  {
   "cell_type": "code",
   "execution_count": 16,
   "metadata": {
    "ExecuteTime": {
     "end_time": "2018-06-25T05:21:56.718172Z",
     "start_time": "2018-06-25T05:21:56.713382Z"
    }
   },
   "outputs": [],
   "source": [
    "def mileage_price(df_):\n",
    "#     Calculate the price per mile for each make/model/year\n",
    "#   input: dataframe of a particular make/model/year. Use w/ groupby\n",
    "    c, r, _, _, _  = np.polyfit(df_.Mileage,df_.Price,1,full=True)\n",
    "    r = np.sqrt(r/len(df_.Mileage))\n",
    "    return c, r"
   ]
  },
  {
   "cell_type": "code",
   "execution_count": 17,
   "metadata": {
    "ExecuteTime": {
     "end_time": "2018-06-25T05:21:57.759906Z",
     "start_time": "2018-06-25T05:21:57.754218Z"
    }
   },
   "outputs": [],
   "source": [
    "def all_cars_to_grouped_with_regression_stats(df_):\n",
    "    # Assign dollars per mile and residual to a dataframe\n",
    "#     Outputs: grouped dataframe with state\n",
    "    g_mileage = df_.groupby(['make','model','year'])\n",
    "    temp = g_mileage.apply(mileage_price)\n",
    "    coeffs,r = zip(*temp.values)\n",
    "    r = (np.apply_along_axis(lambda x: x[0],1,r))\n",
    "    dollars_per_mile,intercept = zip(*coeffs)\n",
    "\n",
    "    df_g = df_.groupby(['make','model','year']).Price.agg('count').to_frame(name='count')\n",
    "    df_g.loc[:,'dollars_per_mile'] = -1*np.asarray(dollars_per_mile)\n",
    "    df_g.loc[:,'price_mile_resid'] = r\n",
    "    return df_g"
   ]
  },
  {
   "cell_type": "code",
   "execution_count": 19,
   "metadata": {
    "ExecuteTime": {
     "end_time": "2018-06-25T05:22:07.888288Z",
     "start_time": "2018-06-25T05:22:07.882855Z"
    }
   },
   "outputs": [],
   "source": [
    "def plotproblem(badidx,fix=False):\n",
    "    badmake = badcars.make.iloc[badidx]\n",
    "    badmodel = badcars.model.iloc[badidx]\n",
    "    badyear = badcars.year.iloc[badidx]\n",
    "    explore = dfu.loc[(dfu.make==badmake)&(dfu.model==badmodel)&(dfu.year==badyear)]\n",
    "    plt.scatter(explore.Mileage/1000,explore.Price)\n",
    "    plt.gca().set_title(badmake + ' ' + badmodel + ' ' + str(badyear))\n",
    "    \n",
    "    if fix:\n",
    "        pass\n",
    "#         mad = \n",
    "    return plt.gca()"
   ]
  },
  {
   "cell_type": "code",
   "execution_count": 211,
   "metadata": {
    "ExecuteTime": {
     "end_time": "2018-06-26T20:37:48.959164Z",
     "start_time": "2018-06-26T20:37:48.181157Z"
    }
   },
   "outputs": [],
   "source": [
    "with open('/Users/ahakso/Documents/gitDir/permileFlask/mysite/static/combined_frame.pkl','rb') as f:\n",
    "    dfc = pickle.load(f)\n",
    "with open('/Users/ahakso/Documents/gitDir/permileFlask/mysite/static/car_data.pkl','rb') as f:\n",
    "    _, _, dfg = pickle.load(f)            \n",
    "with open('/Users/ahakso/odrive/agl/perMileCost/used_cars.pkl','rb') as f:\n",
    "    dfu = pickle.load(f)    "
   ]
  },
  {
   "cell_type": "code",
   "execution_count": 212,
   "metadata": {
    "ExecuteTime": {
     "end_time": "2018-06-26T20:37:52.054625Z",
     "start_time": "2018-06-26T20:37:52.042857Z"
    }
   },
   "outputs": [
    {
     "data": {
      "text/plain": [
       "2897.6258761759182"
      ]
     },
     "execution_count": 212,
     "metadata": {},
     "output_type": "execute_result"
    }
   ],
   "source": [
    "dfg.price_mile_resid.mean()"
   ]
  },
  {
   "cell_type": "code",
   "execution_count": 189,
   "metadata": {
    "ExecuteTime": {
     "end_time": "2018-06-25T23:18:24.695284Z",
     "start_time": "2018-06-25T23:18:21.734715Z"
    },
    "collapsed": true
   },
   "outputs": [
    {
     "name": "stderr",
     "output_type": "stream",
     "text": [
      "/anaconda/envs/insight/lib/python3.6/site-packages/ipykernel/__main__.py:3: FutureWarning: 'make' is both an index level and a column label.\n",
      "Defaulting to column, but this will raise an ambiguity error in a future version\n",
      "  app.launch_new_instance()\n",
      "/anaconda/envs/insight/lib/python3.6/site-packages/ipykernel/__main__.py:3: FutureWarning: 'model' is both an index level and a column label.\n",
      "Defaulting to column, but this will raise an ambiguity error in a future version\n",
      "  app.launch_new_instance()\n",
      "/anaconda/envs/insight/lib/python3.6/site-packages/ipykernel/__main__.py:3: FutureWarning: 'year' is both an index level and a column label.\n",
      "Defaulting to column, but this will raise an ambiguity error in a future version\n",
      "  app.launch_new_instance()\n",
      "/anaconda/envs/insight/lib/python3.6/site-packages/ipykernel/__main__.py:9: FutureWarning: 'make' is both an index level and a column label.\n",
      "Defaulting to column, but this will raise an ambiguity error in a future version\n",
      "/anaconda/envs/insight/lib/python3.6/site-packages/ipykernel/__main__.py:9: FutureWarning: 'model' is both an index level and a column label.\n",
      "Defaulting to column, but this will raise an ambiguity error in a future version\n",
      "/anaconda/envs/insight/lib/python3.6/site-packages/ipykernel/__main__.py:9: FutureWarning: 'year' is both an index level and a column label.\n",
      "Defaulting to column, but this will raise an ambiguity error in a future version\n"
     ]
    },
    {
     "data": {
      "text/plain": [
       "2542.336229252413"
      ]
     },
     "execution_count": 189,
     "metadata": {},
     "output_type": "execute_result"
    }
   ],
   "source": [
    "dfg2 = all_cars_to_grouped_with_regression_stats(dfu_new)"
   ]
  },
  {
   "cell_type": "code",
   "execution_count": 192,
   "metadata": {
    "ExecuteTime": {
     "end_time": "2018-06-25T23:23:57.638417Z",
     "start_time": "2018-06-25T23:23:57.631078Z"
    }
   },
   "outputs": [
    {
     "data": {
      "text/plain": [
       "(2624, 3)"
      ]
     },
     "execution_count": 192,
     "metadata": {},
     "output_type": "execute_result"
    }
   ],
   "source": [
    "dfg2.shape"
   ]
  },
  {
   "cell_type": "code",
   "execution_count": 30,
   "metadata": {
    "ExecuteTime": {
     "end_time": "2018-06-25T05:23:23.883131Z",
     "start_time": "2018-06-25T05:23:23.876072Z"
    }
   },
   "outputs": [],
   "source": [
    "dfg = dfg.reset_index()\n",
    "\n",
    "negidx = (dfg.dollars_per_mile<0)\n",
    "\n",
    "badcars = dfg.loc[negidx,['make','model','year','count']]\n"
   ]
  },
  {
   "cell_type": "code",
   "execution_count": 114,
   "metadata": {
    "ExecuteTime": {
     "end_time": "2018-06-25T03:38:27.051252Z",
     "start_time": "2018-06-25T03:38:26.075382Z"
    }
   },
   "outputs": [
    {
     "data": {
      "image/png": "[encoded data removed]",
      "text/plain": [
       "<Figure size 432x288 with 1 Axes>"
      ]
     },
     "metadata": {},
     "output_type": "display_data"
    }
   ],
   "source": [
    "ax = plotproblem(1)\n",
    "# ax.set_xlim(0,40)"
   ]
  },
  {
   "cell_type": "code",
   "execution_count": 80,
   "metadata": {
    "ExecuteTime": {
     "end_time": "2018-06-25T01:04:46.599561Z",
     "start_time": "2018-06-25T01:04:46.593789Z"
    }
   },
   "outputs": [
    {
     "data": {
      "text/plain": [
       "11721.875090284559"
      ]
     },
     "execution_count": 80,
     "metadata": {},
     "output_type": "execute_result"
    }
   ],
   "source": [
    "np.std(explore.Mileage)"
   ]
  },
  {
   "cell_type": "code",
   "execution_count": 87,
   "metadata": {
    "ExecuteTime": {
     "end_time": "2018-06-25T01:07:52.079504Z",
     "start_time": "2018-06-25T01:07:51.797895Z"
    }
   },
   "outputs": [
    {
     "data": {
      "image/png": "[encoded data removed]",
      "text/plain": [
       "<Figure size 432x288 with 1 Axes>"
      ]
     },
     "metadata": {},
     "output_type": "display_data"
    }
   ],
   "source": [
    "plotproblem(0)"
   ]
  },
  {
   "cell_type": "code",
   "execution_count": 88,
   "metadata": {
    "ExecuteTime": {
     "end_time": "2018-06-25T01:07:53.093868Z",
     "start_time": "2018-06-25T01:07:52.797089Z"
    }
   },
   "outputs": [
    {
     "data": {
      "image/png": "[encoded data removed]",
      "text/plain": [
       "<Figure size 432x288 with 1 Axes>"
      ]
     },
     "metadata": {},
     "output_type": "display_data"
    }
   ],
   "source": [
    "plotproblem(9)"
   ]
  },
  {
   "cell_type": "code",
   "execution_count": 97,
   "metadata": {
    "ExecuteTime": {
     "end_time": "2018-06-25T01:10:35.213981Z",
     "start_time": "2018-06-25T01:10:34.898395Z"
    }
   },
   "outputs": [
    {
     "data": {
      "image/png": "[encoded data removed]",
      "text/plain": [
       "<Figure size 432x288 with 1 Axes>"
      ]
     },
     "metadata": {},
     "output_type": "display_data"
    }
   ],
   "source": [
    "ax = plotproblem(13)"
   ]
  }
 ],
 "metadata": {
  "kernelspec": {
   "display_name": "Python [conda env:insight]",
   "language": "python",
   "name": "conda-env-insight-py"
  },
  "language_info": {
   "codemirror_mode": {
    "name": "ipython",
    "version": 3
   },
   "file_extension": ".py",
   "mimetype": "text/x-python",
   "name": "python",
   "nbconvert_exporter": "python",
   "pygments_lexer": "ipython3",
   "version": "3.6.5"
  }
 },
 "nbformat": 4,
 "nbformat_minor": 2
}
