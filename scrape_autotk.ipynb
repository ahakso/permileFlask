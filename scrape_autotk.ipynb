{
 "cells": [
  {
   "cell_type": "markdown",
   "metadata": {},
   "source": [
    "# Scrape more from autotk"
   ]
  },
  {
   "cell_type": "code",
   "execution_count": null,
   "metadata": {},
   "outputs": [],
   "source": [
    "import pandas as pd\n",
    "import numpy as np\n",
    "import matplotlib.pyplot as plt\n",
    "import re\n",
    "import pickle\n",
    "from selenium import webdriver\n",
    "from bs4 import BeautifulSoup as Soup\n",
    "from urllib.request import urlopen as u_req\n",
    "from urllib import error\n",
    "import urllib\n",
    "import requests\n",
    "from IPython.core.debugger import set_trace\n",
    "from permile import get_soup\n",
    "%matplotlib inline"
   ]
  },
  {
   "cell_type": "code",
   "execution_count": null,
   "metadata": {},
   "outputs": [],
   "source": [
    "with open('/Users/ahakso/Documents/gitDir/permileFlask/mysite/static/car_data.pkl','rb') as f:\n",
    "    car_dict, car_data, _ = pickle.load(f) "
   ]
  },
  {
   "cell_type": "code",
   "execution_count": null,
   "metadata": {},
   "outputs": [],
   "source": [
    "def auto_tk_makepage(url):\n",
    "    # Get make soup\n",
    "    try:\n",
    "        soup = get_soup(url)\n",
    "    except:\n",
    "        print('{} doesn''t exist, returning nans'.format(make))\n",
    "        return None, None\n",
    "\n",
    "    # Get the names\n",
    "    names = soup.find_all('h2')\n",
    "    name = [x.text for x in names][:-1]\n",
    "    links = [x['href'] for x in soup.select('.make__vehicle li a')]\n",
    "\n",
    "    # get the long list of vehicle specs objects\n",
    "    model_box = soup.select('ul.make__vehicle-specs li')\n",
    "    # Get the index where msrp is located\n",
    "    idx_msrp = np.nonzero([bool(re.match('MSRP',x.text)) for x in model_box])[0]\n",
    "    idx_mpg = np.nonzero([bool(re.match('MPG',x.text)) for x in model_box])[0]\n",
    "    idx_seats = np.nonzero([bool(re.match('Seating Capacity',x.text)) for x in model_box])[0]\n",
    "\n",
    "    # Get the car index number represented by mpg\n",
    "    mpg_number = [np.nonzero(x>idx_msrp)[0][-1] for x in idx_mpg]\n",
    "    # Get the car index number represented by seating\n",
    "    seats_number = [np.nonzero(x>idx_msrp)[0][-1] for x in idx_seats]\n",
    "\n",
    "    # process\n",
    "    combine_mpg = lambda x: (float(x[0])*.55 + float(x[1])*.45)\n",
    "    msrp = [model_box[x].text for x in idx_msrp]\n",
    "    msrp = [re.search('(?<=MSRP \\$)[\\d,]*',x).group(0).replace(',','') for x in msrp]\n",
    "    mpg = [model_box[x].text for x in idx_mpg]\n",
    "    mpg = [combine_mpg(re.findall('\\d{1,2}',x)) for x in mpg]\n",
    "    seats =  [model_box[x].text for x in idx_seats]\n",
    "    seats = [float(re.search('\\d{1,2}',x).group(0)) for x in seats]\n",
    "\n",
    "    # Place in a dataframe\n",
    "    dftk = pd.DataFrame({'name':name,'msrp':msrp})\n",
    "    dftk.loc[:,'mpg'] = np.nan\n",
    "    dftk.loc[:,'seats'] = np.nan\n",
    "    dftk.mpg.iloc[mpg_number] = mpg\n",
    "    dftk.seats.iloc[seats_number] = seats\n",
    "    return dftk, links"
   ]
  },
  {
   "cell_type": "code",
   "execution_count": null,
   "metadata": {},
   "outputs": [],
   "source": [
    "def auto_tk_modelpage(url):\n",
    "    print('Scraping {} ...'.format(url))\n",
    "    soup = get_soup(url)\n",
    "    # Get table data\n",
    "    td = [x.text for x in soup.find_all('td')]\n",
    "    # Get indices of target cells\n",
    "    idxzero60 = np.nonzero([bool(re.match('0-60',x)) for x in td])[0]\n",
    "    idxweight = np.nonzero([bool(re.match('Curb',x)) for x in td])[0]\n",
    "    # Pull out text of target cells\n",
    "    zero60 = [td[x] for x in idxzero60]\n",
    "    weight = [td[x] for x in idxweight]\n",
    "    # Return floats\n",
    "    try:\n",
    "        zero60 = float(re.search('(?<=mph )[\\d\\.]*',zero60[0]).group(0))\n",
    "    except IndexError:\n",
    "        zero60 = np.nan        \n",
    "    try:\n",
    "        weight = float(re.search('\\d{1,}',weight[0]).group(0))\n",
    "    except IndexError:\n",
    "        weight = np.nan\n",
    "    return zero60, weight"
   ]
  },
  {
   "cell_type": "code",
   "execution_count": null,
   "metadata": {},
   "outputs": [],
   "source": [
    "def split_name(df_):\n",
    "#     Add make and model from name column\n",
    "    make,model = zip(*df_.name.str.split(' ',1))\n",
    "    model = [x.strip() for x in model]\n",
    "    df_.loc[:,'make'] = make\n",
    "    df_.loc[:,'model'] = model\n",
    "    return df_"
   ]
  },
  {
   "cell_type": "code",
   "execution_count": null,
   "metadata": {},
   "outputs": [],
   "source": []
  },
  {
   "cell_type": "code",
   "execution_count": null,
   "metadata": {},
   "outputs": [],
   "source": [
    "# Get information off the main makes page\n",
    "makes = list(car_dict.keys())\n",
    "autotk = dict()\n",
    "for make in makes:\n",
    "    url = 'http://autotk.com/{}/'.format(make.lower())\n",
    "    dftk, links = auto_tk_makepage(url)\n",
    "    if dftk is None:\n",
    "        continue\n",
    "    autotk[make] = [dftk,links]\n",
    "    print('{} completed'.format(make))\n",
    "# Reduce link lists to the unique model links, not including years\n",
    "unique_links = [np.nonzero([bool(re.search('^\\/[^\\/]*\\/[^\\/]*\\/$',x)) for x in autotk[y][1]])[0]\\\n",
    " for y in autotk]\n",
    "unique_links = [x[0::2] for x in unique_links]\n",
    "\n",
    "# Add link as column in dataframe\n",
    "for i in range(len(unique_links)):\n",
    "    autotk[makes[i]][0].loc[:,'link'] = [autotk[makes[i]][1][x] for x in unique_links[i]]\n",
    "\n",
    "for make in makes:\n",
    "    autotk[make][0] = split_name(autotk[make][0])        \n",
    "\n"
   ]
  },
  {
   "cell_type": "code",
   "execution_count": null,
   "metadata": {},
   "outputs": [],
   "source": [
    "for i_make in range(len(unique_links)):\n",
    "    autotk[makes[i_make]][0].loc[:,'weight'] = np.nan\n",
    "    autotk[makes[i_make]][0].loc[:,'zero60'] = np.nan\n",
    "    for i_model in range(len(unique_links[i_make])):\n",
    "        url = 'http://autotk.com{}'.format(autotk[makes[i_make]][0].link[i_model])\n",
    "        zero60, weight = auto_tk_modelpage(url)\n",
    "        autotk[makes[i_make]][0].loc[i_model,'weight'] = weight\n",
    "        autotk[makes[i_make]][0].loc[i_model,'zero60'] = zero60"
   ]
  },
  {
   "cell_type": "code",
   "execution_count": null,
   "metadata": {},
   "outputs": [],
   "source": [
    "autotk_bak = autotk.copy()"
   ]
  },
  {
   "cell_type": "code",
   "execution_count": null,
   "metadata": {},
   "outputs": [],
   "source": [
    "autotk['Acura'][0].loc[:,'Make'] = 'Acura'"
   ]
  },
  {
   "cell_type": "code",
   "execution_count": null,
   "metadata": {},
   "outputs": [],
   "source": [
    "make = makes[0]\n",
    "\n",
    "autotk_final = autotk[make][0]\n",
    "for make in makes[1:]:    \n",
    "    autotk_final = pd.concat([autotk_final,autotk[make][0]],sort=False)"
   ]
  },
  {
   "cell_type": "code",
   "execution_count": null,
   "metadata": {},
   "outputs": [],
   "source": [
    "with open('/Users/ahakso/Documents/gitDir/permileFlask/mysite/static/autotk.pkl','wb') as f:\n",
    "    pickle.dump(autotk,f)"
   ]
  },
  {
   "cell_type": "code",
   "execution_count": null,
   "metadata": {},
   "outputs": [],
   "source": [
    "with open('/Users/ahakso/Documents/gitDir/permileFlask/mysite/static/autotk_final.pkl','wb') as f:\n",
    "    pickle.dump(autotk_final,f)"
   ]
  },
  {
   "cell_type": "code",
   "execution_count": null,
   "metadata": {},
   "outputs": [],
   "source": [
    "with open('/Users/ahakso/Documents/gitDir/permileFlask/mysite/static/autotk.pkl','rb') as f:\n",
    "    autotk = pickle.load(f)"
   ]
  },
  {
   "cell_type": "code",
   "execution_count": null,
   "metadata": {},
   "outputs": [],
   "source": [
    "with open('/Users/ahakso/Documents/gitDir/permileFlask/mysite/static/autotk_final.pkl','rb') as f:\n",
    "    autotk_final = pickle.load(f)"
   ]
  }
 ],
 "metadata": {
  "kernelspec": {
   "display_name": "Python [conda env:insight]",
   "language": "python",
   "name": "conda-env-insight-py"
  },
  "language_info": {
   "codemirror_mode": {
    "name": "ipython",
    "version": 3
   },
   "file_extension": ".py",
   "mimetype": "text/x-python",
   "name": "python",
   "nbconvert_exporter": "python",
   "pygments_lexer": "ipython3",
   "version": "3.6.5"
  }
 },
 "nbformat": 4,
 "nbformat_minor": 2
}
