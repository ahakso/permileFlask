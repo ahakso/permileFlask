{
 "cells": [
  {
   "cell_type": "code",
   "execution_count": 39,
   "metadata": {
    "ExecuteTime": {
     "end_time": "2018-06-25T00:00:30.067785Z",
     "start_time": "2018-06-25T00:00:30.062367Z"
    }
   },
   "outputs": [],
   "source": [
    "from urllib.request import urlopen as u_req\n",
    "import urllib\n",
    "from bs4 import BeautifulSoup as Soup\n",
    "import pandas as pd\n",
    "import requests\n",
    "from IPython.core.debugger import set_trace\n",
    "from selenium import webdriver\n",
    "from selenium.common.exceptions import NoSuchElementException, InvalidSelectorException\n",
    "import pickle\n",
    "import numpy as np\n",
    "from permile import get_soup\n",
    "import re"
   ]
  },
  {
   "cell_type": "code",
   "execution_count": 47,
   "metadata": {
    "ExecuteTime": {
     "end_time": "2018-06-25T00:01:11.351661Z",
     "start_time": "2018-06-25T00:01:11.325229Z"
    }
   },
   "outputs": [],
   "source": [
    "# define state name to abbreviation dictionary\n",
    "statename_to_abbr = {\n",
    "    # Other\n",
    "    'District of Columbia': 'DC',\n",
    "    # States\n",
    "    'Alabama': 'AL',\n",
    "    'Montana': 'MT',\n",
    "    'Alaska': 'AK',\n",
    "    'Nebraska': 'NE',\n",
    "    'Arizona': 'AZ',\n",
    "    'Nevada': 'NV',\n",
    "    'Arkansas': 'AR',\n",
    "    'New Hampshire': 'NH',\n",
    "    'California': 'CA',\n",
    "    'New Jersey': 'NJ',\n",
    "    'Colorado': 'CO',\n",
    "    'New Mexico': 'NM',\n",
    "    'Connecticut': 'CT',\n",
    "    'New York': 'NY',\n",
    "    'Delaware': 'DE',\n",
    "    'North Carolina': 'NC',\n",
    "    'Florida': 'FL',\n",
    "    'North Dakota': 'ND',\n",
    "    'Georgia': 'GA',\n",
    "    'Ohio': 'OH',\n",
    "    'Hawaii': 'HI',\n",
    "    'Oklahoma': 'OK',\n",
    "    'Idaho': 'ID',\n",
    "    'Oregon': 'OR',\n",
    "    'Illinois': 'IL',\n",
    "    'Pennsylvania': 'PA',\n",
    "    'Indiana': 'IN',\n",
    "    'Rhode Island': 'RI',\n",
    "    'Iowa': 'IA',\n",
    "    'South Carolina': 'SC',\n",
    "    'Kansas': 'KS',\n",
    "    'South Dakota': 'SD',\n",
    "    'Kentucky': 'KY',\n",
    "    'Tennessee': 'TN',\n",
    "    'Louisiana': 'LA',\n",
    "    'Texas': 'TX',\n",
    "    'Maine': 'ME',\n",
    "    'Utah': 'UT',\n",
    "    'Maryland': 'MD',\n",
    "    'Vermont': 'VT',\n",
    "    'Massachusetts': 'MA',\n",
    "    'Virginia': 'VA',\n",
    "    'Michigan': 'MI',\n",
    "    'Washington': 'WA',\n",
    "    'Minnesota': 'MN',\n",
    "    'West Virginia': 'WV',\n",
    "    'Mississippi': 'MS',\n",
    "    'Wisconsin': 'WI',\n",
    "    'Missouri': 'MO',\n",
    "    'Wyoming': 'WY',\n",
    "}"
   ]
  },
  {
   "cell_type": "code",
   "execution_count": 41,
   "metadata": {
    "ExecuteTime": {
     "end_time": "2018-06-25T00:00:31.773751Z",
     "start_time": "2018-06-25T00:00:31.051808Z"
    }
   },
   "outputs": [],
   "source": [
    "# Get the fuel price data, fooling scrape blocker with header\n",
    "url = 'http://gasprices.aaa.com/state-gas-price-averages/'\n",
    "headers = {'User-Agent':'Chrome/51.0.2704.103'}\n",
    "page = requests.get(url,headers=headers)\n",
    "soup = Soup(page.text,'html.parser')\n",
    "tr = soup.find_all('table')[0].find_all('tr')"
   ]
  },
  {
   "cell_type": "code",
   "execution_count": 42,
   "metadata": {
    "ExecuteTime": {
     "end_time": "2018-06-25T00:00:41.251168Z",
     "start_time": "2018-06-25T00:00:41.240224Z"
    }
   },
   "outputs": [],
   "source": [
    "# Parse out the state name and price\n",
    "state = [re.search('\\w{3,} ?\\w{0,} ?\\w{0,}',x.find_all('td')[0].text).group(0).strip() for x in tr[1:]]\n",
    "price = [(re.search('\\d.\\d*',x.find_all('td')[1].text).group(0)) for x in tr[1:]]\n",
    "# Place in a dataframe\n",
    "gasprice = pd.DataFrame(np.array([[statename_to_abbr[x] for x in state],price]).transpose(),columns=['state','price'])\n",
    "gasprice.price = gasprice.price.astype('float')"
   ]
  },
  {
   "cell_type": "code",
   "execution_count": 126,
   "metadata": {},
   "outputs": [],
   "source": [
    "df = pd.read_csv('/Users/ahakso/Downloads/niccolley-us-zipcode-to-county-state/data/zip_county_fips_2018_03.csv')\n",
    "\n",
    "df = df.drop(['stcountyfp','city','countyname','classfp'],axis=1)\n",
    "\n",
    "with open('/Users/ahakso/Documents/gitDir/permileFlask/mysite/static/zipstate.pkl','wb') as f:\n",
    "    df.to_pickle(f)"
   ]
  },
  {
   "cell_type": "code",
   "execution_count": 38,
   "metadata": {
    "ExecuteTime": {
     "end_time": "2018-06-24T23:24:27.084200Z",
     "start_time": "2018-06-24T23:24:27.077623Z"
    }
   },
   "outputs": [],
   "source": [
    "with open('/Users/ahakso/Documents/gitDir/permileFlask/mysite/static/backupgas.pkl','wb') as f:\n",
    "    gasprice.to_pickle(f)"
   ]
  }
 ],
 "metadata": {
  "kernelspec": {
   "display_name": "Python [conda env:insight]",
   "language": "python",
   "name": "conda-env-insight-py"
  },
  "language_info": {
   "codemirror_mode": {
    "name": "ipython",
    "version": 3
   },
   "file_extension": ".py",
   "mimetype": "text/x-python",
   "name": "python",
   "nbconvert_exporter": "python",
   "pygments_lexer": "ipython3",
   "version": "3.6.5"
  }
 },
 "nbformat": 4,
 "nbformat_minor": 2
}
